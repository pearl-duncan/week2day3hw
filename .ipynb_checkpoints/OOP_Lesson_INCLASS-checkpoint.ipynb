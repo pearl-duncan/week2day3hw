{
 "cells": [
  {
   "cell_type": "markdown",
   "metadata": {},
   "source": [
    "# Object-Oriented-Programming (OOP)"
   ]
  },
  {
   "cell_type": "markdown",
   "metadata": {},
   "source": [
    "## Tasks Today:\n",
    "\n",
    "   \n",
    "\n",
    "1) <b>Creating a Class (Initializing/Declaring)</b> <br>\n",
    "2) <b>Using a Class (Instantiating)</b> <br>\n",
    " &nbsp;&nbsp;&nbsp;&nbsp; a) Creating One Instance <br>\n",
    " &nbsp;&nbsp;&nbsp;&nbsp; b) Creating Multiple Instances <br>\n",
    " &nbsp;&nbsp;&nbsp;&nbsp; c) In-Class Exercise #1 - Create a Class 'Car' and instantiate three different makes of cars <br>\n",
    "3) <b>The \\__init\\__() Method</b> <br>\n",
    " &nbsp;&nbsp;&nbsp;&nbsp; a) The 'self' Attribute <br>\n",
    "4) <b>Class Attributes</b> <br>\n",
    " &nbsp;&nbsp;&nbsp;&nbsp; a) Initializing Attributes <br>\n",
    " &nbsp;&nbsp;&nbsp;&nbsp; b) Setting an Attribute Outside of the \\__init\\__() Method <br>\n",
    " &nbsp;&nbsp;&nbsp;&nbsp; c) Setting Defaults for Attributes <br>\n",
    " &nbsp;&nbsp;&nbsp;&nbsp; d) Accessing Class Attributes <br>\n",
    " &nbsp;&nbsp;&nbsp;&nbsp; e) Changing Class Attributes <br>\n",
    " &nbsp;&nbsp;&nbsp;&nbsp; f) In-Class Exercise #2 - Add a color and wheels attribute to your 'Car' class <br>\n",
    "5) <b>Class Methods</b> <br>\n",
    " &nbsp;&nbsp;&nbsp;&nbsp; a) Creating <br>\n",
    " &nbsp;&nbsp;&nbsp;&nbsp; b) Calling <br>\n",
    " &nbsp;&nbsp;&nbsp;&nbsp; c) Modifying an Attribute's Value Through a Method <br>\n",
    " &nbsp;&nbsp;&nbsp;&nbsp; d) Incrementing an Attribute's Value Through a Method <br>\n",
    " &nbsp;&nbsp;&nbsp;&nbsp; e) In-Class Exercise #3 - Add a method that prints the cars color and wheel number, then call them <br>\n",
    "6) <b>Inheritance</b> <br>\n",
    " &nbsp;&nbsp;&nbsp;&nbsp; a) Syntax for Inheriting from a Parent Class <br>\n",
    " &nbsp;&nbsp;&nbsp;&nbsp; b) The \\__init\\__() Method for a Child Class (super()) <br>\n",
    " &nbsp;&nbsp;&nbsp;&nbsp; c) Defining Attributes and Methods for the Child Class <br>\n",
    " &nbsp;&nbsp;&nbsp;&nbsp; d) Method Overriding <br>\n",
    " &nbsp;&nbsp;&nbsp;&nbsp; e) In-Class Exercise #4 - Create a class 'Ford' that inherits from 'Car' class and initialize it as a Blue Ford Explorer with 4 wheels using the super() method <br>\n",
    "7) <b>Classes as Attributes</b> <br>\n",
    "8) <b>Exercises</b> <br>\n",
    " &nbsp;&nbsp;&nbsp;&nbsp; a) Exercise #1 - Turn the shopping cart program from yesterday into an object-oriented program <br>"
   ]
  },
  {
   "cell_type": "markdown",
   "metadata": {},
   "source": [
    "## Creating a Class (Initializing/Declaring)\n",
    "<p>When creating a class, function, or even a variable you are initializing that object. Initializing and Declaring occur at the same time in Python, whereas in lower level languages you have to declare an object before initializing it. This is the first step in the process of using a class.</p>"
   ]
  },
  {
   "cell_type": "code",
   "execution_count": 1,
   "metadata": {},
   "outputs": [],
   "source": [
    "#try to always capitalize class names\n",
    "#a blueprint for creating objects\n",
    "class Car():\n",
    "    wheels = 4\n",
    "    color = 'blue'"
   ]
  },
  {
   "cell_type": "markdown",
   "metadata": {},
   "source": [
    "## Using a Class (Instantiating)\n",
    "<p>The process of creating a class is called <i>Instantiating</i>. Each time you create a variable of that type of class, it is referred to as an <i>Instance</i> of that class. This is the second step in the process of using a class.</p>"
   ]
  },
  {
   "cell_type": "markdown",
   "metadata": {},
   "source": [
    "##### Creating One Instance"
   ]
  },
  {
   "cell_type": "code",
   "execution_count": 2,
   "metadata": {},
   "outputs": [],
   "source": [
    "ford = Car()\n",
    "honda=Car()\n",
    "car1=Car()"
   ]
  },
  {
   "cell_type": "markdown",
   "metadata": {},
   "source": [
    "##### Creating Multiple Instances"
   ]
  },
  {
   "cell_type": "code",
   "execution_count": 6,
   "metadata": {},
   "outputs": [
    {
     "name": "stdout",
     "output_type": "stream",
     "text": [
      "<__main__.Car object at 0x00000218723B6610>\n",
      "4\n",
      "blue\n",
      "red\n"
     ]
    }
   ],
   "source": [
    "#see above\n",
    "print(ford)\n",
    "\n",
    "print(ford.wheels)\n",
    "print(honda.color)\n",
    "honda.color='red'\n",
    "print(honda.color)"
   ]
  },
  {
   "cell_type": "markdown",
   "metadata": {},
   "source": [
    "##### In-Class Exercise #1 - Create a Class 'Car' and Instantiate three different makes of cars"
   ]
  },
  {
   "cell_type": "code",
   "execution_count": null,
   "metadata": {},
   "outputs": [],
   "source": [
    "class Car():\n",
    "    wheels = 4\n",
    "    color = 'blue'\n",
    "\n",
    "ford = Car()\n",
    "honda=Car()\n",
    "car1=Car()"
   ]
  },
  {
   "cell_type": "markdown",
   "metadata": {},
   "source": [
    "## The \\__init\\__() Method <br>\n",
    "<p>This method is used in almost every created class, and called only once upon the creation of the class instance. This method will initialize all variables needed for the object.</p>"
   ]
  },
  {
   "cell_type": "code",
   "execution_count": 8,
   "metadata": {},
   "outputs": [
    {
     "data": {
      "text/plain": [
       "'vrhoooooooom'"
      ]
     },
     "execution_count": 8,
     "metadata": {},
     "output_type": "execute_result"
    }
   ],
   "source": [
    "class Car():\n",
    "    wheels =4\n",
    "    \n",
    "    def __init__(self, color):\n",
    "        pass \n",
    "    \n",
    "    def drive(self):\n",
    "        return 'vrhoooooooom'\n",
    "    \n",
    "tesla = Car('black')\n",
    "tesla.drive()"
   ]
  },
  {
   "cell_type": "markdown",
   "metadata": {},
   "source": [
    "##### The 'self' Attribute <br>\n",
    "<p>This attribute is required to keep track of specific instance's attributes. Without the self attribute, the program would not know how to reference or keep track of an instance's attributes.</p>"
   ]
  },
  {
   "cell_type": "code",
   "execution_count": null,
   "metadata": {},
   "outputs": [],
   "source": [
    "# see above"
   ]
  },
  {
   "cell_type": "markdown",
   "metadata": {},
   "source": [
    "## Class Attributes <br>\n",
    "<p>While variables are inside of a class, they are referred to as attributes and not variables. When someone says 'attribute' you know they're speaking about a class. Attributes can be initialized through the init method, or outside of it.</p>"
   ]
  },
  {
   "cell_type": "markdown",
   "metadata": {},
   "source": [
    "##### Initializing Attributes"
   ]
  },
  {
   "cell_type": "code",
   "execution_count": null,
   "metadata": {},
   "outputs": [],
   "source": [
    "# see above"
   ]
  },
  {
   "cell_type": "markdown",
   "metadata": {},
   "source": [
    "##### Accessing Class Attributes"
   ]
  },
  {
   "cell_type": "code",
   "execution_count": null,
   "metadata": {
    "scrolled": true
   },
   "outputs": [],
   "source": [
    "# See Above"
   ]
  },
  {
   "cell_type": "markdown",
   "metadata": {},
   "source": [
    "##### Setting Defaults for Attributes"
   ]
  },
  {
   "cell_type": "code",
   "execution_count": null,
   "metadata": {},
   "outputs": [],
   "source": []
  },
  {
   "cell_type": "markdown",
   "metadata": {},
   "source": [
    "##### Changing Class Attributes <br>\n",
    "<p>Keep in mind there are global class attributes and then there are attributes only available to each class instance which won't effect other classes.</p>"
   ]
  },
  {
   "cell_type": "code",
   "execution_count": null,
   "metadata": {},
   "outputs": [],
   "source": []
  },
  {
   "cell_type": "code",
   "execution_count": null,
   "metadata": {},
   "outputs": [],
   "source": []
  },
  {
   "cell_type": "markdown",
   "metadata": {},
   "source": [
    "##### In-Class Exercise #2 - Add a doors and seats attribute to your 'Car' class then print out two different instances with different doors and seats"
   ]
  },
  {
   "cell_type": "code",
   "execution_count": 11,
   "metadata": {},
   "outputs": [
    {
     "name": "stdout",
     "output_type": "stream",
     "text": [
      "{'doors': 4, 'seats': 7, 'wheels': 4, 'color': 'white', 'year': 2023}\n",
      "{'doors': 4, 'seats': 6, 'wheels': 4, 'color': 'black', 'year': 2020}\n"
     ]
    }
   ],
   "source": [
    "class Car():\n",
    "    \n",
    "    def __init__(self, color, doors=4, seats=5, year=2023):\n",
    "        self.doors = doors\n",
    "        self.seats = seats\n",
    "        self.wheels = 4\n",
    "        self.color = color\n",
    "        self.year = year\n",
    "        \n",
    "    def drive(self):\n",
    "        return \"vroooom\"\n",
    "    \n",
    "car1= Car('white', seats =7)\n",
    "print(car1.__dict__)\n",
    "car2 =Car('black', seats=6, year=2020)\n",
    "print(car2.__dict__)"
   ]
  },
  {
   "cell_type": "markdown",
   "metadata": {},
   "source": [
    "## Class Methods <br>\n",
    "<p>While inside of a class, functions are referred to as 'methods'. If you hear someone mention methods, they're speaking about classes. Methods are essentially functions, but only callable on the instances of a class.</p>"
   ]
  },
  {
   "cell_type": "markdown",
   "metadata": {},
   "source": [
    "##### Creating"
   ]
  },
  {
   "cell_type": "code",
   "execution_count": 14,
   "metadata": {},
   "outputs": [
    {
     "ename": "AttributeError",
     "evalue": "'Car' object has no attribute 'mileage'",
     "output_type": "error",
     "traceback": [
      "\u001b[1;31m---------------------------------------------------------------------------\u001b[0m",
      "\u001b[1;31mAttributeError\u001b[0m                            Traceback (most recent call last)",
      "Cell \u001b[1;32mIn[14], line 25\u001b[0m\n\u001b[0;32m     23\u001b[0m tesla\u001b[38;5;241m.\u001b[39mbio()\n\u001b[0;32m     24\u001b[0m tesla\u001b[38;5;241m.\u001b[39mupdate_owner(\u001b[38;5;124m'\u001b[39m\u001b[38;5;124mPearl\u001b[39m\u001b[38;5;124m'\u001b[39m)\n\u001b[1;32m---> 25\u001b[0m \u001b[38;5;28mprint\u001b[39m(tesla\u001b[38;5;241m.\u001b[39mmileage)\n\u001b[0;32m     26\u001b[0m tesla\u001b[38;5;241m.\u001b[39mdrive(\u001b[38;5;241m100\u001b[39m)\n\u001b[0;32m     27\u001b[0m tesla\u001b[38;5;241m.\u001b[39mdrive(\u001b[38;5;241m200\u001b[39m)\n",
      "\u001b[1;31mAttributeError\u001b[0m: 'Car' object has no attribute 'mileage'"
     ]
    }
   ],
   "source": [
    "class Car():\n",
    "    \n",
    "    def __init__(self, color, doors=4, seats=5, year=2023):\n",
    "        self.doors = doors\n",
    "        self.seats = seats\n",
    "        self.wheels = 4\n",
    "        self.color = color\n",
    "        self.year = year\n",
    "        \n",
    "    def drive(self, miles_driven=1):\n",
    "        self.mileage+=miles_driven\n",
    "        return \"vroooom\"\n",
    "    \n",
    "    def bio(self):\n",
    "        return f'This is a {self.color} {self.year} car with {self.doors} doors and {self.seats} seats'\n",
    "\n",
    "    #setter\n",
    "    def update_owner(self, first_name):\n",
    "        self.owner=first_name\n",
    "    \n",
    "    \n",
    "tesla=Car('black')\n",
    "tesla.bio()\n",
    "tesla.update_owner('Pearl')\n",
    "print(tesla.mileage)\n",
    "tesla.drive(100)\n",
    "tesla.drive(200)\n",
    "print(tesla.__dict__)"
   ]
  },
  {
   "cell_type": "markdown",
   "metadata": {},
   "source": [
    "##### Calling"
   ]
  },
  {
   "cell_type": "code",
   "execution_count": null,
   "metadata": {},
   "outputs": [],
   "source": [
    "# See Above"
   ]
  },
  {
   "cell_type": "markdown",
   "metadata": {},
   "source": [
    "##### Modifying an Attribute's Value Through a Method"
   ]
  },
  {
   "cell_type": "code",
   "execution_count": null,
   "metadata": {},
   "outputs": [],
   "source": [
    "#see above\n",
    "#setter"
   ]
  },
  {
   "cell_type": "markdown",
   "metadata": {},
   "source": [
    "##### Incrementing an Attribute's Value Through a Method"
   ]
  },
  {
   "cell_type": "code",
   "execution_count": null,
   "metadata": {},
   "outputs": [],
   "source": [
    "#see above\n",
    "#setter"
   ]
  },
  {
   "cell_type": "markdown",
   "metadata": {},
   "source": [
    "##### In-Class Exercise #3 - Add a method that takes in three parameters of year, doors and seats and prints out a formatted print statement with make, model, year, seats, and doors"
   ]
  },
  {
   "cell_type": "code",
   "execution_count": null,
   "metadata": {},
   "outputs": [],
   "source": [
    "# Create class with 2 paramters inside of the __init__ which are make and model\n",
    "\n",
    "# Inside of the Car class create a method that has 4 parameter in total (self,year,door,seats)\n",
    "\n",
    "# Output: This car is from 2019 and is a Ford Expolorer and has 4 doors and 5 seats\n",
    "\n"
   ]
  },
  {
   "cell_type": "markdown",
   "metadata": {},
   "source": [
    "## Inheritance <br>\n",
    "<p>You can create a child-parent relationship between two classes by using inheritance. What this allows you to do is have overriding methods, but also inherit traits from the parent class. Think of it as an actual parent and child, the child will inherit the parent's genes, as will the classes in OOP</p>"
   ]
  },
  {
   "cell_type": "markdown",
   "metadata": {},
   "source": [
    "##### Syntax for Inheriting from a Parent Class"
   ]
  },
  {
   "cell_type": "code",
   "execution_count": null,
   "metadata": {},
   "outputs": [],
   "source": []
  },
  {
   "cell_type": "markdown",
   "metadata": {},
   "source": [
    "##### The \\__init\\__() Method for a Child Class - super()"
   ]
  },
  {
   "cell_type": "code",
   "execution_count": null,
   "metadata": {
    "scrolled": true
   },
   "outputs": [],
   "source": []
  },
  {
   "cell_type": "markdown",
   "metadata": {},
   "source": [
    "##### Defining Attributes and Methods for the Child Class"
   ]
  },
  {
   "cell_type": "code",
   "execution_count": null,
   "metadata": {},
   "outputs": [],
   "source": [
    "# See Above"
   ]
  },
  {
   "cell_type": "markdown",
   "metadata": {},
   "source": [
    "##### Method Overriding"
   ]
  },
  {
   "cell_type": "code",
   "execution_count": 82,
   "metadata": {},
   "outputs": [],
   "source": [
    "# See Above"
   ]
  },
  {
   "cell_type": "markdown",
   "metadata": {},
   "source": [
    "## Classes as Attributes <br>\n",
    "<p>Classes can also be used as attributes within another class. This is useful in situations where you need to keep variables locally stored, instead of globally stored.</p>"
   ]
  },
  {
   "cell_type": "code",
   "execution_count": null,
   "metadata": {},
   "outputs": [],
   "source": []
  },
  {
   "cell_type": "markdown",
   "metadata": {},
   "source": [
    "# Exercises"
   ]
  },
  {
   "cell_type": "markdown",
   "metadata": {},
   "source": [
    "### Exercise 1 - Turn the shopping cart program  into an object-oriented program\n",
    "\n",
    "The comments in the cell below are there as a guide for thinking about the problem. However, if you feel a different way is best for you and your own thought process, please do what feels best for you by all means."
   ]
  },
  {
   "cell_type": "code",
   "execution_count": 96,
   "metadata": {},
   "outputs": [
    {
     "name": "stdout",
     "output_type": "stream",
     "text": [
      "\n",
      "Options:\n",
      "A. Add to cart\n",
      "D. Delete item from cart\n",
      "S. Show all items in cart\n",
      "Q. leave store\n",
      "Select an option (A/D/S/Q): a\n",
      "What would you like to add to cart? apples\n",
      "How many would you like?12\n",
      "\n",
      "Options:\n",
      "A. Add to cart\n",
      "D. Delete item from cart\n",
      "S. Show all items in cart\n",
      "Q. leave store\n",
      "Select an option (A/D/S/Q): a\n",
      "What would you like to add to cart? kiwi\n",
      "How many would you like?6\n",
      "\n",
      "Options:\n",
      "A. Add to cart\n",
      "D. Delete item from cart\n",
      "S. Show all items in cart\n",
      "Q. leave store\n",
      "Select an option (A/D/S/Q): s\n",
      "{'apples': '12', 'kiwi': '6'}\n",
      "\n",
      "Options:\n",
      "A. Add to cart\n",
      "D. Delete item from cart\n",
      "S. Show all items in cart\n",
      "Q. leave store\n",
      "Select an option (A/D/S/Q): d\n",
      "What would you like to delete from cart? kiwi\n",
      "\n",
      "removed item from cart\n",
      "\n",
      "Options:\n",
      "A. Add to cart\n",
      "D. Delete item from cart\n",
      "S. Show all items in cart\n",
      "Q. leave store\n",
      "Select an option (A/D/S/Q): s\n",
      "{'apples': '12'}\n",
      "\n",
      "Options:\n",
      "A. Add to cart\n",
      "D. Delete item from cart\n",
      "S. Show all items in cart\n",
      "Q. leave store\n",
      "Select an option (A/D/S/Q): q\n"
     ]
    }
   ],
   "source": [
    "# Create a class called cart that retains items and has methods to add, remove, and show\n",
    "\n",
    "class Cart():\n",
    "    def __init__(self):\n",
    "        self.shopping_list = {}\n",
    "        \n",
    "    def add_to_cart(self):\n",
    "        item1 = input('What would you like to add to cart? ')\n",
    "        quanity = input('How many would you like?')\n",
    "        self.shopping_list[item1] = quanity\n",
    "\n",
    "    \n",
    "            \n",
    "    def remove_from_cart(self):\n",
    "        item2= input('What would you like to delete from cart? ')\n",
    "        if item2 in self.shopping_list:\n",
    "            del self.shopping_list[item2]\n",
    "            print('\\nremoved item from cart')\n",
    "    \n",
    "    def show_cart(self):\n",
    "        print(self.shopping_list)\n",
    "        \n",
    "if __name__ == \"__main__\":\n",
    "    cart = Cart()\n",
    "    \n",
    "    while True:\n",
    "        print(\"\\nOptions:\")\n",
    "        print(\"A. Add to cart\")\n",
    "        print(\"D. Delete item from cart\")\n",
    "        print(\"S. Show all items in cart\")\n",
    "        print(\"Q. leave store\")\n",
    "        choice = input(\"Select an option (A/D/S/Q): \")\n",
    "\n",
    "        if choice.upper() == \"A\":\n",
    "            cart.add_to_cart()\n",
    "            \n",
    "        elif choice.upper() == \"D\":\n",
    "            cart.remove_from_cart()\n",
    "            \n",
    "        elif choice.upper() == \"S\":\n",
    "            cart.show_cart()\n",
    "            \n",
    "        elif choice.upper() == \"Q\":\n",
    "            break\n",
    "            \n",
    "        else:\n",
    "            print(\"Invalid choice. Please select a valid option.\")\n",
    "\n",
    "cart1 = Cart()\n",
    "cart2 = Cart()"
   ]
  },
  {
   "cell_type": "code",
   "execution_count": null,
   "metadata": {},
   "outputs": [],
   "source": []
  },
  {
   "cell_type": "markdown",
   "metadata": {},
   "source": [
    "### Exercise 2 - Write a Python class which has two methods get_String and print_String. get_String accept a string from the user and print_String print the string in upper case"
   ]
  },
  {
   "cell_type": "code",
   "execution_count": 86,
   "metadata": {},
   "outputs": [
    {
     "name": "stdout",
     "output_type": "stream",
     "text": [
      "enter a string: he\n",
      "HE\n"
     ]
    }
   ],
   "source": [
    "class Pearl:\n",
    "    def __init__(self):\n",
    "        pass\n",
    "\n",
    "    def get_string(self):\n",
    "\n",
    "        self.string = input(\"enter a string: \")\n",
    "\n",
    "    def print_string(self):\n",
    "\n",
    "        print(self.string.upper())\n",
    "\n",
    " \n",
    "My_string = Pearl()\n",
    "\n",
    "My_string.get_string()\n",
    "\n",
    "My_string.print_string()"
   ]
  },
  {
   "cell_type": "code",
   "execution_count": 89,
   "metadata": {},
   "outputs": [
    {
     "data": {
      "text/plain": [
       "'hello world'"
      ]
     },
     "execution_count": 89,
     "metadata": {},
     "output_type": "execute_result"
    }
   ],
   "source": [
    "class Pearl:\n",
    "    def __init__(self, string):\n",
    "        self.string = string\n",
    "\n",
    "    def get_string(self):\n",
    "\n",
    "        self.string = input(\"enter a string: \")\n",
    "\n",
    "    def print_string(self):\n",
    "\n",
    "        print(self.string.upper())\n",
    "        \n",
    "x = Pearl('hello world')\n",
    "x.string"
   ]
  },
  {
   "cell_type": "code",
   "execution_count": null,
   "metadata": {},
   "outputs": [],
   "source": []
  },
  {
   "cell_type": "code",
   "execution_count": null,
   "metadata": {},
   "outputs": [],
   "source": []
  }
 ],
 "metadata": {
  "kernelspec": {
   "display_name": "Python 3 (ipykernel)",
   "language": "python",
   "name": "python3"
  },
  "language_info": {
   "codemirror_mode": {
    "name": "ipython",
    "version": 3
   },
   "file_extension": ".py",
   "mimetype": "text/x-python",
   "name": "python",
   "nbconvert_exporter": "python",
   "pygments_lexer": "ipython3",
   "version": "3.11.4"
  }
 },
 "nbformat": 4,
 "nbformat_minor": 2
}
